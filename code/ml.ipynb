{
 "cells": [
  {
   "cell_type": "code",
   "execution_count": 1,
   "metadata": {},
   "outputs": [
    {
     "name": "stderr",
     "output_type": "stream",
     "text": [
      "/home/ibra/.local/lib/python3.5/site-packages/sklearn/cross_validation.py:41: DeprecationWarning: This module was deprecated in version 0.18 in favor of the model_selection module into which all the refactored classes and functions are moved. Also note that the interface of the new CV iterators are different from that of this module. This module will be removed in 0.20.\n",
      "  \"This module will be removed in 0.20.\", DeprecationWarning)\n"
     ]
    }
   ],
   "source": [
    "import bs4 as bs\n",
    "import pickle\n",
    "import requests\n",
    "\n",
    "import datetime as dt\n",
    "import os\n",
    "import pandas as pd\n",
    "import pandas_datareader.data as web\n",
    "\n",
    "import matplotlib.pyplot as plt\n",
    "from matplotlib import style\n",
    "\n",
    "import numpy as np\n",
    "from collections import Counter\n",
    "\n",
    "from sklearn import svm, cross_validation, neighbors, tree\n",
    "from sklearn import linear_model\n",
    "from sklearn.ensemble import GradientBoostingRegressor\n",
    "from sklearn.ensemble import RandomForestRegressor\n",
    "from sklearn.model_selection import cross_val_score\n",
    "from sklearn.metrics import mean_squared_error\n",
    "from sklearn.ensemble import VotingClassifier, RandomForestClassifier\n",
    "style.use('ggplot')\n",
    "\n",
    "import warnings\n",
    "warnings.filterwarnings(\"ignore\")"
   ]
  },
  {
   "cell_type": "code",
   "execution_count": 3,
   "metadata": {},
   "outputs": [],
   "source": [
    "# Prepare data for training\n",
    "\n",
    "def prepare_data(ticker):\n",
    "    hm_days = 30\n",
    "    df = pd.read_csv('sp500_joined_closes.csv', index_col = 0)\n",
    "    \n",
    "    data = df[ticker]\n",
    "    data = data.dropna(how='any').values\n",
    "    num = data.shape[0]\n",
    "    \n",
    "    X = np.empty((0, hm_days), int)\n",
    "    Y = np.array([])\n",
    "      \n",
    "    for i in range(num - hm_days - 1):\n",
    "        X = np.vstack((X, data[i:i+hm_days]))\n",
    "        Y = np.append(Y, data[i+hm_days])\n",
    "    return X, Y\n",
    "\n",
    "def split(ticker):\n",
    "    \n",
    "    X, Y = prepare_data(ticker)\n",
    "\n",
    "    # Dimensions of dataset\n",
    "    n = X.shape[0]\n",
    "    p = X.shape[1]\n",
    "\n",
    "    # Training and test data\n",
    "    train_start = 0\n",
    "    train_end = int(np.floor(0.8*n))\n",
    "    test_start = train_end\n",
    "    test_end = n\n",
    "\n",
    "    X_train = X[np.arange(train_start, train_end)]\n",
    "    y_train = Y[np.arange(train_start, train_end)]\n",
    "    X_test = X[np.arange(test_start, test_end)]\n",
    "    y_test = Y[np.arange(test_start, test_end)]\n",
    "    \n",
    "    return X_train, y_train, X_test, y_test"
   ]
  },
  {
   "cell_type": "code",
   "execution_count": 12,
   "metadata": {},
   "outputs": [
    {
     "name": "stdout",
     "output_type": "stream",
     "text": [
      "(3397, 30)\n",
      "8.803699 30.50853\n",
      "(3397,)\n",
      "8.803699 30.50853\n",
      "\n",
      "(850,)\n",
      "25.954512119184802 40.3047231950689\n",
      "(850,)\n",
      "\n",
      "Accuracy 0.08628533687528261\n"
     ]
    }
   ],
   "source": [
    "def do_ml(ticker):\n",
    "        \n",
    "    X_train, y_train, X_test, y_test = split(ticker)\n",
    "#     taken = 90\n",
    "#     X_train = X_train[:taken]\n",
    "#     y_train = y_train[:taken]\n",
    "#     X_train = X_train[-taken:]\n",
    "#     y_train = y_train[-taken:]\n",
    "    \n",
    "#     clf = RandomForestRegressor()\n",
    "\n",
    "    clf = linear_model.LinearRegression()\n",
    "\n",
    "#     clf = svm.SVR(kernel='poly')\n",
    "#     clf = neighbors.KNeighborsRegressor(5)\n",
    "    \n",
    "    clf.fit(X_train, y_train)\n",
    "#     print(X_train.shape)\n",
    "#     print(X_train.min(), X_train.max())\n",
    "#     print(y_train.shape)\n",
    "#     print(y_train.min(), y_train.max())\n",
    "#     print(\"\")\n",
    "        \n",
    "    predictions = clf.predict(X_test)\n",
    "#     print(predictions.shape)\n",
    "#     print(predictions.min(), predictions.max())\n",
    "#     print(np.unique(predictions).shape)\n",
    "#     print(\"\")\n",
    "    \n",
    "#     confidence = clf.score(X_test, y_test)\n",
    "#     confidence = cross_val_score(clf, X_test, y_test, cv=5, scoring='neg_mean_squared_error')\n",
    "    confidence = mean_squared_error(y_test, predictions)\n",
    "    \n",
    "    print('Accuracy', confidence)\n",
    "\n",
    "    \n",
    "#     return confidence\n",
    "\n",
    "    \n",
    "do_ml('T')\n",
    "    "
   ]
  }
 ],
 "metadata": {
  "kernelspec": {
   "display_name": "Python 3",
   "language": "python",
   "name": "python3"
  },
  "language_info": {
   "codemirror_mode": {
    "name": "ipython",
    "version": 3
   },
   "file_extension": ".py",
   "mimetype": "text/x-python",
   "name": "python",
   "nbconvert_exporter": "python",
   "pygments_lexer": "ipython3",
   "version": "3.5.2"
  }
 },
 "nbformat": 4,
 "nbformat_minor": 2
}
